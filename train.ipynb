{
 "cells": [
  {
   "cell_type": "code",
   "execution_count": 202,
   "metadata": {
    "collapsed": false
   },
   "outputs": [],
   "source": [
    "import numpy as np\n",
    "from keras.models import Sequential\n",
    "from keras.layers import Dense, Activation, Dropout, Flatten, Convolution2D, MaxPooling2D\n",
    "import scipy.ndimage\n",
    "import seaborn as sns\n",
    "import matplotlib.pyplot as plt\n",
    "import glob\n",
    "import os\n",
    "%matplotlib inline"
   ]
  },
  {
   "cell_type": "code",
   "execution_count": 98,
   "metadata": {
    "collapsed": true
   },
   "outputs": [],
   "source": [
    "DATADIR = '/tmp/ml_data'"
   ]
  },
  {
   "cell_type": "code",
   "execution_count": 95,
   "metadata": {
    "collapsed": false
   },
   "outputs": [
    {
     "data": {
      "text/plain": [
       "(150, 150)"
      ]
     },
     "execution_count": 95,
     "metadata": {},
     "output_type": "execute_result"
    }
   ],
   "source": [
    "img = scipy.ndimage.imread('/tmp/ml_data/train/circ/000.jpg')\n",
    "img.shape"
   ]
  },
  {
   "cell_type": "code",
   "execution_count": 214,
   "metadata": {
    "collapsed": true
   },
   "outputs": [],
   "source": [
    "def read_data(root_dir, classes, ext='.jpg'):\n",
    "    file_glob = '*' + ext\n",
    "    n_images = len(glob.glob(os.path.join(root_dir, '*', file_glob)))\n",
    "    class_counts = [len(glob.glob(os.path.join(root_dir, c, file_glob))) for c in classes]\n",
    "    example_img = glob.glob(os.path.join(root_dir, classes[0], file_glob))[0]\n",
    "    img_dims = scipy.ndimage.imread(example_img).shape\n",
    "    X = np.ndarray((n_images, img_dims[0], img_dims[1], 1))\n",
    "    Y = np.ndarray(n_images)\n",
    "    counter = 0\n",
    "    for ic, c in enumerate(classes):\n",
    "        n_class = class_counts[ic]\n",
    "        path_patt = os.path.join(root_dir, c, '*' + ext)\n",
    "        for ip, p in enumerate(glob.glob(path_patt)):\n",
    "            X[counter, :, :, 0] = scipy.ndimage.imread(p)\n",
    "            Y[counter] = ic\n",
    "            counter += 1\n",
    "    return X, Y"
   ]
  },
  {
   "cell_type": "code",
   "execution_count": 153,
   "metadata": {
    "collapsed": false
   },
   "outputs": [],
   "source": [
    "model = Sequential()\n",
    "model.add(Convolution2D(32, 3, 3, input_shape=(150, 150, 1)))\n",
    "model.add(Activation('relu'))\n",
    "model.add(MaxPooling2D(pool_size=(2, 2)))\n",
    "\n",
    "model.add(Convolution2D(32, 3, 3))\n",
    "model.add(Activation('relu'))\n",
    "model.add(MaxPooling2D(pool_size=(2, 2)))\n",
    "\n",
    "model.add(Convolution2D(64, 3, 3))\n",
    "model.add(Activation('relu'))\n",
    "model.add(MaxPooling2D(pool_size=(2, 2)))\n",
    "\n",
    "model.add(Flatten())  # this converts our 3D feature maps to 1D feature vectors\n",
    "model.add(Dense(64))\n",
    "model.add(Activation('relu'))\n",
    "model.add(Dropout(0.5))\n",
    "model.add(Dense(1))\n",
    "model.add(Activation('sigmoid'))\n",
    "\n",
    "model.compile(loss='binary_crossentropy',\n",
    "              optimizer='rmsprop',\n",
    "              metrics=['accuracy'])"
   ]
  },
  {
   "cell_type": "code",
   "execution_count": 155,
   "metadata": {
    "collapsed": false
   },
   "outputs": [
    {
     "name": "stdout",
     "output_type": "stream",
     "text": [
      "Epoch 1/10\n",
      "2000/2000 [==============================] - 401s - loss: 0.7488 - acc: 0.6320   \n",
      "Epoch 2/10\n",
      "2000/2000 [==============================] - 403s - loss: 0.5080 - acc: 0.7570   \n",
      "Epoch 3/10\n",
      "2000/2000 [==============================] - 399s - loss: 0.3615 - acc: 0.8315   \n",
      "Epoch 4/10\n",
      "2000/2000 [==============================] - 399s - loss: 0.2971 - acc: 0.8735   \n",
      "Epoch 5/10\n",
      "2000/2000 [==============================] - 392s - loss: 0.2631 - acc: 0.8890   \n",
      "Epoch 6/10\n",
      "2000/2000 [==============================] - 387s - loss: 0.1959 - acc: 0.9150   \n",
      "Epoch 7/10\n",
      "2000/2000 [==============================] - 387s - loss: 0.1806 - acc: 0.9285   \n",
      "Epoch 8/10\n",
      "2000/2000 [==============================] - 385s - loss: 0.1492 - acc: 0.9405   \n",
      "Epoch 9/10\n",
      "2000/2000 [==============================] - 386s - loss: 0.1466 - acc: 0.9440   \n",
      "Epoch 10/10\n",
      "2000/2000 [==============================] - 385s - loss: 0.1224 - acc: 0.9480   \n"
     ]
    },
    {
     "data": {
      "text/plain": [
       "<keras.callbacks.History at 0x7f91b57dae48>"
      ]
     },
     "execution_count": 155,
     "metadata": {},
     "output_type": "execute_result"
    }
   ],
   "source": [
    "X_train, Y_train = read_data('/tmp/ml_data/train', ('circ', 'tri'))\n",
    "model.fit(X_train, Y_train, nb_epoch=10, batch_size=64)"
   ]
  },
  {
   "cell_type": "code",
   "execution_count": 184,
   "metadata": {
    "collapsed": false
   },
   "outputs": [],
   "source": [
    "X_test, y_test = read_data('/tmp/ml_data/test', ('circ', 'tri'))"
   ]
  },
  {
   "cell_type": "code",
   "execution_count": 185,
   "metadata": {
    "collapsed": false
   },
   "outputs": [
    {
     "name": "stdout",
     "output_type": "stream",
     "text": [
      "200/200 [==============================] - 10s    \n"
     ]
    },
    {
     "data": {
      "text/plain": [
       "[0.14027621857821942, 0.94499999999999995]"
      ]
     },
     "execution_count": 185,
     "metadata": {},
     "output_type": "execute_result"
    }
   ],
   "source": [
    "score = model.evaluate(X_test, y_test, batch_size=16)\n",
    "score"
   ]
  },
  {
   "cell_type": "code",
   "execution_count": 188,
   "metadata": {
    "collapsed": false
   },
   "outputs": [
    {
     "name": "stdout",
     "output_type": "stream",
     "text": [
      "200/200 [==============================] - 11s    \n"
     ]
    }
   ],
   "source": [
    "proba = model.predict_proba(X_test)"
   ]
  },
  {
   "cell_type": "code",
   "execution_count": 234,
   "metadata": {
    "collapsed": false
   },
   "outputs": [
    {
     "data": {
      "image/png": "[encoded data removed]",
      "text/plain": [
       "<matplotlib.figure.Figure at 0x7f91ab53d128>"
      ]
     },
     "metadata": {},
     "output_type": "display_data"
    }
   ],
   "source": [
    "a = plt.hist(proba)"
   ]
  },
  {
   "cell_type": "code",
   "execution_count": 235,
   "metadata": {
    "collapsed": false,
    "scrolled": true
   },
   "outputs": [
    {
     "data": {
      "text/plain": [
       "<matplotlib.axes._subplots.AxesSubplot at 0x7f91ac43bc18>"
      ]
     },
     "execution_count": 235,
     "metadata": {},
     "output_type": "execute_result"
    },
    {
     "data": {
      "image/png": "[encoded data removed]",
      "text/plain": [
       "<matplotlib.figure.Figure at 0x7f91ac4a0e10>"
      ]
     },
     "metadata": {},
     "output_type": "display_data"
    }
   ],
   "source": [
    "sns.heatmap(proba.reshape((100, 2), order='F'), yticklabels=10)"
   ]
  },
  {
   "cell_type": "code",
   "execution_count": 219,
   "metadata": {
    "collapsed": false
   },
   "outputs": [
    {
     "data": {
      "text/plain": [
       "40"
      ]
     },
     "execution_count": 219,
     "metadata": {},
     "output_type": "execute_result"
    },
    {
     "data": {
      "image/png": "[encoded data removed]",
      "text/plain": [
       "<matplotlib.figure.Figure at 0x7f91ac804cf8>"
      ]
     },
     "metadata": {},
     "output_type": "display_data"
    }
   ],
   "source": [
    "i_worst = np.argmax(proba[0:100])\n",
    "plt.imshow(X_test[i_worst, :, :, 0])\n",
    "i_worst"
   ]
  },
  {
   "cell_type": "code",
   "execution_count": 220,
   "metadata": {
    "collapsed": false
   },
   "outputs": [
    {
     "data": {
      "text/plain": [
       "27"
      ]
     },
     "execution_count": 220,
     "metadata": {},
     "output_type": "execute_result"
    },
    {
     "data": {
      "image/png": "[encoded data removed]",
      "text/plain": [
       "<matplotlib.figure.Figure at 0x7f91abc69a58>"
      ]
     },
     "metadata": {},
     "output_type": "display_data"
    }
   ],
   "source": [
    "i_worst = np.argmin(proba[100:])\n",
    "plt.imshow(X_test[100 + i_worst, :, :, 0])\n",
    "i_worst"
   ]
  }
 ],
 "metadata": {
  "kernelspec": {
   "display_name": "Python 3",
   "language": "python",
   "name": "python3"
  },
  "language_info": {
   "codemirror_mode": {
    "name": "ipython",
    "version": 3
   },
   "file_extension": ".py",
   "mimetype": "text/x-python",
   "name": "python",
   "nbconvert_exporter": "python",
   "pygments_lexer": "ipython3",
   "version": "3.4.3"
  }
 },
 "nbformat": 4,
 "nbformat_minor": 1
}
