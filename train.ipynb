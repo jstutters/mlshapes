{
 "cells": [
  {
   "cell_type": "code",
   "execution_count": 1,
   "metadata": {
    "collapsed": false
   },
   "outputs": [
    {
     "name": "stderr",
     "output_type": "stream",
     "text": [
      "Using TensorFlow backend.\n"
     ]
    }
   ],
   "source": [
    "import numpy as np\n",
    "from keras.models import Sequential\n",
    "from keras.layers import Dense, Activation, Dropout, Flatten, Convolution2D, MaxPooling2D\n",
    "import scipy.ndimage\n",
    "import seaborn as sns\n",
    "import matplotlib.pyplot as plt\n",
    "import glob\n",
    "import os\n",
    "%matplotlib inline"
   ]
  },
  {
   "cell_type": "code",
   "execution_count": 2,
   "metadata": {
    "collapsed": true
   },
   "outputs": [],
   "source": [
    "DATADIR = '/tmp/ml_data'"
   ]
  },
  {
   "cell_type": "code",
   "execution_count": 3,
   "metadata": {
    "collapsed": false
   },
   "outputs": [
    {
     "data": {
      "text/plain": [
       "(150, 150)"
      ]
     },
     "execution_count": 3,
     "metadata": {},
     "output_type": "execute_result"
    }
   ],
   "source": [
    "img = scipy.ndimage.imread('/tmp/ml_data/train/circ/000.jpg')\n",
    "img.shape"
   ]
  },
  {
   "cell_type": "code",
   "execution_count": 4,
   "metadata": {
    "collapsed": true
   },
   "outputs": [],
   "source": [
    "def read_data(root_dir, classes, ext='.jpg'):\n",
    "    file_glob = '*' + ext\n",
    "    n_images = len(glob.glob(os.path.join(root_dir, '*', file_glob)))\n",
    "    class_counts = [len(glob.glob(os.path.join(root_dir, c, file_glob))) for c in classes]\n",
    "    example_img = glob.glob(os.path.join(root_dir, classes[0], file_glob))[0]\n",
    "    img_dims = scipy.ndimage.imread(example_img).shape\n",
    "    X = np.ndarray((n_images, img_dims[0], img_dims[1], 1))\n",
    "    Y = np.ndarray(n_images)\n",
    "    counter = 0\n",
    "    for ic, c in enumerate(classes):\n",
    "        n_class = class_counts[ic]\n",
    "        path_patt = os.path.join(root_dir, c, '*' + ext)\n",
    "        for ip, p in enumerate(glob.glob(path_patt)):\n",
    "            X[counter, :, :, 0] = scipy.ndimage.imread(p)\n",
    "            Y[counter] = ic\n",
    "            counter += 1\n",
    "    return X, Y"
   ]
  },
  {
   "cell_type": "code",
   "execution_count": 5,
   "metadata": {
    "collapsed": false
   },
   "outputs": [],
   "source": [
    "model = Sequential()\n",
    "model.add(Convolution2D(32, 3, 3, input_shape=(150, 150, 1)))\n",
    "model.add(Activation('relu'))\n",
    "model.add(MaxPooling2D(pool_size=(2, 2)))\n",
    "\n",
    "model.add(Convolution2D(32, 3, 3))\n",
    "model.add(Activation('relu'))\n",
    "model.add(MaxPooling2D(pool_size=(2, 2)))\n",
    "\n",
    "model.add(Convolution2D(64, 3, 3))\n",
    "model.add(Activation('relu'))\n",
    "model.add(MaxPooling2D(pool_size=(2, 2)))\n",
    "\n",
    "model.add(Flatten())  # this converts our 3D feature maps to 1D feature vectors\n",
    "model.add(Dense(64))\n",
    "model.add(Activation('relu'))\n",
    "model.add(Dropout(0.5))\n",
    "model.add(Dense(1))\n",
    "model.add(Activation('sigmoid'))\n",
    "\n",
    "model.compile(loss='binary_crossentropy',\n",
    "              optimizer='rmsprop',\n",
    "              metrics=['accuracy'])"
   ]
  },
  {
   "cell_type": "code",
   "execution_count": 6,
   "metadata": {
    "collapsed": false
   },
   "outputs": [
    {
     "name": "stdout",
     "output_type": "stream",
     "text": [
      "Epoch 1/10\n",
      "2000/2000 [==============================] - 48s - loss: 0.7661 - acc: 0.6350    \n",
      "Epoch 2/10\n",
      "2000/2000 [==============================] - 49s - loss: 0.4947 - acc: 0.7485    \n",
      "Epoch 3/10\n",
      "2000/2000 [==============================] - 48s - loss: 0.3842 - acc: 0.8195    \n",
      "Epoch 4/10\n",
      "2000/2000 [==============================] - 48s - loss: 0.3207 - acc: 0.8465    \n",
      "Epoch 5/10\n",
      "2000/2000 [==============================] - 48s - loss: 0.2373 - acc: 0.8960    \n",
      "Epoch 6/10\n",
      "2000/2000 [==============================] - 48s - loss: 0.1884 - acc: 0.9170    \n",
      "Epoch 7/10\n",
      "2000/2000 [==============================] - 48s - loss: 0.1700 - acc: 0.9215    \n",
      "Epoch 8/10\n",
      "2000/2000 [==============================] - 48s - loss: 0.1426 - acc: 0.9445    \n",
      "Epoch 9/10\n",
      "2000/2000 [==============================] - 47s - loss: 0.1517 - acc: 0.9510    \n",
      "Epoch 10/10\n",
      "2000/2000 [==============================] - 48s - loss: 0.1324 - acc: 0.9495    \n"
     ]
    },
    {
     "data": {
      "text/plain": [
       "<keras.callbacks.History at 0x7f8f7d1e8c50>"
      ]
     },
     "execution_count": 6,
     "metadata": {},
     "output_type": "execute_result"
    }
   ],
   "source": [
    "X_train, Y_train = read_data('/tmp/ml_data/train', ('circ', 'tri'))\n",
    "model.fit(X_train, Y_train, nb_epoch=10, batch_size=64)"
   ]
  },
  {
   "cell_type": "code",
   "execution_count": 7,
   "metadata": {
    "collapsed": false
   },
   "outputs": [],
   "source": [
    "X_test, y_test = read_data('/tmp/ml_data/test', ('circ', 'tri'))"
   ]
  },
  {
   "cell_type": "code",
   "execution_count": 8,
   "metadata": {
    "collapsed": false
   },
   "outputs": [
    {
     "name": "stdout",
     "output_type": "stream",
     "text": [
      "200/200 [==============================] - 1s     \n"
     ]
    },
    {
     "data": {
      "text/plain": [
       "[0.080924158785492181, 0.97499999999999998]"
      ]
     },
     "execution_count": 8,
     "metadata": {},
     "output_type": "execute_result"
    }
   ],
   "source": [
    "score = model.evaluate(X_test, y_test, batch_size=16)\n",
    "score"
   ]
  },
  {
   "cell_type": "code",
   "execution_count": 9,
   "metadata": {
    "collapsed": false
   },
   "outputs": [
    {
     "name": "stdout",
     "output_type": "stream",
     "text": [
      "200/200 [==============================] - 1s     \n"
     ]
    }
   ],
   "source": [
    "proba = model.predict_proba(X_test)"
   ]
  },
  {
   "cell_type": "code",
   "execution_count": 10,
   "metadata": {
    "collapsed": false
   },
   "outputs": [
    {
     "data": {
      "image/png": "[encoded data removed]",
      "text/plain": [
       "<matplotlib.figure.Figure at 0x7f8f81e407b8>"
      ]
     },
     "metadata": {},
     "output_type": "display_data"
    }
   ],
   "source": [
    "a = plt.hist(proba)"
   ]
  },
  {
   "cell_type": "code",
   "execution_count": 11,
   "metadata": {
    "collapsed": false,
    "scrolled": true
   },
   "outputs": [
    {
     "data": {
      "text/plain": [
       "<matplotlib.axes._subplots.AxesSubplot at 0x7f8f7d48e6a0>"
      ]
     },
     "execution_count": 11,
     "metadata": {},
     "output_type": "execute_result"
    },
    {
     "data": {
      "image/png": "[encoded data removed]",
      "text/plain": [
       "<matplotlib.figure.Figure at 0x7f8f7ceb0b00>"
      ]
     },
     "metadata": {},
     "output_type": "display_data"
    }
   ],
   "source": [
    "sns.heatmap(proba.reshape((100, 2), order='F'), yticklabels=10)"
   ]
  },
  {
   "cell_type": "code",
   "execution_count": 12,
   "metadata": {
    "collapsed": false
   },
   "outputs": [
    {
     "data": {
      "text/plain": [
       "82"
      ]
     },
     "execution_count": 12,
     "metadata": {},
     "output_type": "execute_result"
    },
    {
     "data": {
      "image/png": "[encoded data removed]",
      "text/plain": [
       "<matplotlib.figure.Figure at 0x7f8f7ceb01d0>"
      ]
     },
     "metadata": {},
     "output_type": "display_data"
    }
   ],
   "source": [
    "i_worst = np.argmax(proba[0:100])\n",
    "plt.imshow(X_test[i_worst, :, :, 0])\n",
    "i_worst"
   ]
  },
  {
   "cell_type": "code",
   "execution_count": 13,
   "metadata": {
    "collapsed": false
   },
   "outputs": [
    {
     "data": {
      "text/plain": [
       "27"
      ]
     },
     "execution_count": 13,
     "metadata": {},
     "output_type": "execute_result"
    },
    {
     "data": {
      "image/png": "[encoded data removed]",
      "text/plain": [
       "<matplotlib.figure.Figure at 0x7f8f7cd8fa90>"
      ]
     },
     "metadata": {},
     "output_type": "display_data"
    }
   ],
   "source": [
    "i_worst = np.argmin(proba[100:])\n",
    "plt.imshow(X_test[100 + i_worst, :, :, 0])\n",
    "i_worst"
   ]
  },
  {
   "cell_type": "code",
   "execution_count": 14,
   "metadata": {
    "collapsed": true
   },
   "outputs": [],
   "source": [
    "batch_size = 32 # in each iteration, we consider 32 training examples at once\n",
    "num_epochs = 10 # we iterate 10 times over the entire training set\n",
    "kernel_size = 3 # we will use 3x3 kernels throughout\n",
    "pool_size = 2 # we will use 2x2 pooling throughout\n",
    "conv_depth_1 = 32 # we will initially have 32 kernels per conv. layer...\n",
    "conv_depth_2 = 64 # ...switching to 64 after the first pooling layer\n",
    "drop_prob_1 = 0.25 # dropout after pooling with probability 0.25\n",
    "drop_prob_2 = 0.5 # dropout in the FC layer with probability 0.5\n",
    "hidden_size = 512 # the FC layer will have 512 neurons\n",
    "\n",
    "model2 = Sequential()\n",
    "model2.add(Convolution2D(conv_depth_1, kernel_size, kernel_size, activation='relu', border_mode='same', input_shape=(150, 150, 1)))\n",
    "model2.add(Convolution2D(conv_depth_1, kernel_size, kernel_size, activation='relu', border_mode='same'))\n",
    "model2.add(MaxPooling2D(pool_size=(pool_size, pool_size)))\n",
    "model2.add(Dropout(drop_prob_1))\n",
    "model2.add(Convolution2D(conv_depth_2, kernel_size, kernel_size, activation='relu', border_mode='same'))\n",
    "model2.add(Convolution2D(conv_depth_2, kernel_size, kernel_size, activation='relu', border_mode='same'))\n",
    "model2.add(MaxPooling2D(pool_size=(pool_size, pool_size)))\n",
    "model2.add(Dropout(drop_prob_1))\n",
    "model2.add(Flatten())\n",
    "model2.add(Dense(hidden_size, activation='relu'))\n",
    "model2.add(Dropout(drop_prob_2))\n",
    "model2.add(Dense(1, activation='sigmoid'))\n",
    "\n",
    "model2.compile(loss='binary_crossentropy',\n",
    "               optimizer='rmsprop',\n",
    "               metrics=['accuracy'])"
   ]
  },
  {
   "cell_type": "code",
   "execution_count": 16,
   "metadata": {
    "collapsed": false
   },
   "outputs": [
    {
     "name": "stdout",
     "output_type": "stream",
     "text": [
      "Epoch 1/10\n",
      "2000/2000 [==============================] - 257s - loss: 0.7638 - acc: 0.6225   \n",
      "Epoch 2/10\n",
      "2000/2000 [==============================] - 255s - loss: 0.5299 - acc: 0.7230   \n",
      "Epoch 3/10\n",
      "2000/2000 [==============================] - 263s - loss: 0.4580 - acc: 0.8030   \n",
      "Epoch 4/10\n",
      "2000/2000 [==============================] - 267s - loss: 0.3391 - acc: 0.8475   \n",
      "Epoch 5/10\n",
      "2000/2000 [==============================] - 262s - loss: 0.3299 - acc: 0.8760   \n",
      "Epoch 6/10\n",
      "2000/2000 [==============================] - 264s - loss: 0.2097 - acc: 0.9160   \n",
      "Epoch 7/10\n",
      "2000/2000 [==============================] - 265s - loss: 0.1944 - acc: 0.9260   \n",
      "Epoch 8/10\n",
      "2000/2000 [==============================] - 280s - loss: 0.1633 - acc: 0.9455   \n",
      "Epoch 9/10\n",
      "2000/2000 [==============================] - 223s - loss: 0.1444 - acc: 0.9435   \n",
      "Epoch 10/10\n",
      "2000/2000 [==============================] - 209s - loss: 0.1035 - acc: 0.9720   \n"
     ]
    },
    {
     "data": {
      "text/plain": [
       "<keras.callbacks.History at 0x7f8f7c83aeb8>"
      ]
     },
     "execution_count": 16,
     "metadata": {},
     "output_type": "execute_result"
    }
   ],
   "source": [
    "model2.fit(X_train, Y_train, batch_size=batch_size, nb_epoch=num_epochs)"
   ]
  },
  {
   "cell_type": "code",
   "execution_count": 17,
   "metadata": {
    "collapsed": false
   },
   "outputs": [
    {
     "name": "stdout",
     "output_type": "stream",
     "text": [
      "200/200 [==============================] - 1s     \n"
     ]
    },
    {
     "data": {
      "text/plain": [
       "[0.080924158785492181, 0.97499999999999998]"
      ]
     },
     "execution_count": 17,
     "metadata": {},
     "output_type": "execute_result"
    }
   ],
   "source": [
    "score = model.evaluate(X_test, y_test, batch_size=16)\n",
    "score"
   ]
  },
  {
   "cell_type": "code",
   "execution_count": 19,
   "metadata": {
    "collapsed": false
   },
   "outputs": [
    {
     "name": "stdout",
     "output_type": "stream",
     "text": [
      "200/200 [==============================] - 1s     \n"
     ]
    }
   ],
   "source": [
    "proba = model.predict_proba(X_test)"
   ]
  },
  {
   "cell_type": "code",
   "execution_count": 20,
   "metadata": {
    "collapsed": false
   },
   "outputs": [
    {
     "data": {
      "text/plain": [
       "(array([ 88.,   7.,   6.,   1.,   1.,   3.,   3.,   0.,   7.,  84.]),\n",
       " array([  5.55580726e-15,   1.00000000e-01,   2.00000000e-01,\n",
       "          3.00000000e-01,   4.00000000e-01,   5.00000000e-01,\n",
       "          6.00000000e-01,   7.00000000e-01,   8.00000000e-01,\n",
       "          9.00000000e-01,   1.00000000e+00]),\n",
       " <a list of 10 Patch objects>)"
      ]
     },
     "execution_count": 20,
     "metadata": {},
     "output_type": "execute_result"
    },
    {
     "data": {
      "image/png": "[encoded data removed]",
      "text/plain": [
       "<matplotlib.figure.Figure at 0x7f8f7cd98ba8>"
      ]
     },
     "metadata": {},
     "output_type": "display_data"
    }
   ],
   "source": [
    "plt.hist(proba)"
   ]
  }
 ],
 "metadata": {
  "anaconda-cloud": {},
  "kernelspec": {
   "display_name": "Python [conda env:ml]",
   "language": "python",
   "name": "conda-env-ml-py"
  },
  "language_info": {
   "codemirror_mode": {
    "name": "ipython",
    "version": 3
   },
   "file_extension": ".py",
   "mimetype": "text/x-python",
   "name": "python",
   "nbconvert_exporter": "python",
   "pygments_lexer": "ipython3",
   "version": "3.5.2"
  }
 },
 "nbformat": 4,
 "nbformat_minor": 1
}
