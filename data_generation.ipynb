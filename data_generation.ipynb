{
 "cells": [
  {
   "cell_type": "code",
   "execution_count": 101,
   "metadata": {
    "collapsed": false
   },
   "outputs": [],
   "source": [
    "from PIL import Image, ImageDraw, ImageFilter\n",
    "import math\n",
    "import os\n",
    "import random"
   ]
  },
  {
   "cell_type": "code",
   "execution_count": 103,
   "metadata": {
    "collapsed": true
   },
   "outputs": [],
   "source": [
    "def triangle(centre, radius):\n",
    "    t = (math.pi * 2.0) - random.uniform(0, math.pi)\n",
    "    p1 = (math.sin(t) * radius, math.cos(t) * radius)\n",
    "    t -= random.uniform(0.5, math.pi)\n",
    "    p2 = (math.sin(t) * radius, math.cos(t) * radius)\n",
    "    t /= 2.0\n",
    "    p3 = (math.sin(t) * radius, math.cos(t) * radius)\n",
    "    points = [(p[0] + centre[0], p[1] + centre[1]) for p in (p1, p2, p3)]\n",
    "    return points\n",
    "\n",
    "def box(centre, sz):\n",
    "    p1 = (centre[0] - sz / 2.0, centre[1] - sz / 2.0)\n",
    "    p2 = (centre[0] + sz / 2.0, centre[1] + sz / 2.0)\n",
    "    return (p1, p2)"
   ]
  },
  {
   "cell_type": "code",
   "execution_count": 37,
   "metadata": {
    "collapsed": false
   },
   "outputs": [],
   "source": [
    "im = Image.new(mode='F', size=(100, 100))"
   ]
  },
  {
   "cell_type": "code",
   "execution_count": 11,
   "metadata": {
    "collapsed": false
   },
   "outputs": [],
   "source": [
    "draw = ImageDraw.Draw(im)\n",
    "draw.polygon([(10, 10), (90, 90), (10, 90)], fill=128)"
   ]
  },
  {
   "cell_type": "code",
   "execution_count": 96,
   "metadata": {
    "collapsed": false
   },
   "outputs": [],
   "source": [
    "def gentri():\n",
    "    im = Image.new(mode='L', size=(150, 150))\n",
    "    draw = ImageDraw.Draw(im)\n",
    "    centre = (random.randrange(50, 100), random.randrange(50, 100))\n",
    "    sz = random.randrange(20, 50)\n",
    "    draw.polygon(triangle(centre, sz), fill=128)\n",
    "    gb = ImageFilter.GaussianBlur(random.randrange(0, 10))\n",
    "    im = im.filter(gb)\n",
    "    return im"
   ]
  },
  {
   "cell_type": "code",
   "execution_count": 97,
   "metadata": {
    "collapsed": false
   },
   "outputs": [],
   "source": [
    "def gencirc():\n",
    "    im = Image.new(mode='L', size=(150, 150))\n",
    "    draw = ImageDraw.Draw(im)\n",
    "    centre = (random.randrange(50, 100), random.randrange(50, 100))\n",
    "    sz = random.randrange(20, 50)\n",
    "    draw.ellipse(box(centre, sz), fill=128)\n",
    "    gb = ImageFilter.GaussianBlur(random.randrange(0, 10))\n",
    "    im = im.filter(gb)\n",
    "    return im"
   ]
  },
  {
   "cell_type": "code",
   "execution_count": 106,
   "metadata": {
    "collapsed": false
   },
   "outputs": [],
   "source": [
    "for p in ('/tmp/ml_data/train/circ', '/tmp/ml_data/train/circ', '/tmp/ml_data/test/circ', '/tmp/ml_data/test/tri'):\n",
    "    if not os.path.exists(p):\n",
    "        os.makedirs(p)\n",
    "        \n",
    "for i in range(1000):\n",
    "    im = gencirc()\n",
    "    filename = '/tmp/ml_data/train/circ/{0:03d}.jpg'.format(i)\n",
    "    im.save(filename, 'JPEG')\n",
    "    \n",
    "for i in range(1000):\n",
    "    im = gentri()\n",
    "    filename = '/tmp/ml_data/train/tri/{0:03d}.jpg'.format(i)\n",
    "    im.save(filename, 'JPEG')\n",
    "    \n",
    "for i in range(100):\n",
    "    im = gencirc()\n",
    "    filename = '/tmp/ml_data/test/circ/{0:03d}.jpg'.format(i)\n",
    "    im.save(filename, 'JPEG')\n",
    "    \n",
    "for i in range(100):\n",
    "    im = gentri()\n",
    "    filename = '/tmp/ml_data/test/tri/{0:03d}.jpg'.format(i)\n",
    "    im.save(filename, 'JPEG')"
   ]
  }
 ],
 "metadata": {
  "kernelspec": {
   "display_name": "Python 3",
   "language": "python",
   "name": "python3"
  },
  "language_info": {
   "codemirror_mode": {
    "name": "ipython",
    "version": 3
   },
   "file_extension": ".py",
   "mimetype": "text/x-python",
   "name": "python",
   "nbconvert_exporter": "python",
   "pygments_lexer": "ipython3",
   "version": "3.4.3"
  }
 },
 "nbformat": 4,
 "nbformat_minor": 1
}
